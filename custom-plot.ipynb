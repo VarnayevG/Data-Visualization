{
 "cells": [
  {
   "cell_type": "code",
   "execution_count": 1,
   "metadata": {},
   "outputs": [],
   "source": [
    "import seaborn as sns\n",
    "import pandas as pd"
   ]
  },
  {
   "cell_type": "code",
   "execution_count": 2,
   "metadata": {},
   "outputs": [],
   "source": [
    "countries = ['Vietnam', 'Vietnam', 'Malaysia', 'Malaysia', 'Singapore', 'Singapore',\n",
    "          'Taiwan', 'Taiwan', 'Thailand', 'Thailand', 'Asia Ex-Japan', 'Asia Ex-Japan',\n",
    "          'South Korea', 'South Korea', 'Philipines', 'Philipines', 'Euro Area', 'Euro Area',\n",
    "          'Japan', 'Japan', 'Honk Kong', 'Honk Kong', 'India', 'India', \n",
    "          'Indonesia', 'Indonesia', 'Australia', 'Australia']\n",
    "exports = ['Exports to China (% of GDP)', 'Exports to US (% of GDP)',\n",
    "           'Exports to China (% of GDP)', 'Exports to US (% of GDP)',\n",
    "          'Exports to China (% of GDP)',  'Exports to US (% of GDP)',\n",
    "           'Exports to China (% of GDP)', 'Exports to US (% of GDP)', \n",
    "          'Exports to China (% of GDP)', 'Exports to US (% of GDP)', \n",
    "           'Exports to China (% of GDP)', 'Exports to US (% of GDP)', \n",
    "          'Exports to China (% of GDP)','Exports to US (% of GDP)' ,\n",
    "           'Exports to China (% of GDP)', 'Exports to US (% of GDP)', \n",
    "          'Exports to China (% of GDP)',  'Exports to US (% of GDP)' ,\n",
    "           'Exports to China (% of GDP)',  'Exports to US (% of GDP)' ,\n",
    "          'Exports to China (% of GDP)',  'Exports to US (% of GDP)' ,\n",
    "           'Exports to China (% of GDP)', 'Exports to US (% of GDP)' ,\n",
    "          'Exports to China (% of GDP)',  'Exports to US (% of GDP)' ,\n",
    "           'Exports to China (% of GDP)', 'Exports to US (% of GDP)' ]\n",
    "percents = [27., 28., 21., 13., 9, 8, 32, 8, 10, 7, 9, 6, 12, 4, 6, 3, 2, 3, 3, 2, 2, 2.5, 0.5, 2, 3, 2, 8, 1]"
   ]
  },
  {
   "cell_type": "code",
   "execution_count": 3,
   "metadata": {},
   "outputs": [],
   "source": [
    "data = list(zip(countries, exports, percents))"
   ]
  },
  {
   "cell_type": "code",
   "execution_count": 4,
   "metadata": {},
   "outputs": [],
   "source": [
    "df = pd.DataFrame(data=data, columns=['Countries', 'Export Type', 'Percent'])"
   ]
  },
  {
   "cell_type": "code",
   "execution_count": 5,
   "metadata": {},
   "outputs": [
    {
     "data": {
      "text/html": [
       "<div>\n",
       "<style scoped>\n",
       "    .dataframe tbody tr th:only-of-type {\n",
       "        vertical-align: middle;\n",
       "    }\n",
       "\n",
       "    .dataframe tbody tr th {\n",
       "        vertical-align: top;\n",
       "    }\n",
       "\n",
       "    .dataframe thead th {\n",
       "        text-align: right;\n",
       "    }\n",
       "</style>\n",
       "<table border=\"1\" class=\"dataframe\">\n",
       "  <thead>\n",
       "    <tr style=\"text-align: right;\">\n",
       "      <th></th>\n",
       "      <th>index</th>\n",
       "      <th>Countries</th>\n",
       "      <th>Export Type</th>\n",
       "      <th>Percent</th>\n",
       "    </tr>\n",
       "  </thead>\n",
       "  <tbody>\n",
       "    <tr>\n",
       "      <th>0</th>\n",
       "      <td>0</td>\n",
       "      <td>Vietnam</td>\n",
       "      <td>Exports to China (% of GDP)</td>\n",
       "      <td>27.0</td>\n",
       "    </tr>\n",
       "    <tr>\n",
       "      <th>1</th>\n",
       "      <td>1</td>\n",
       "      <td>Vietnam</td>\n",
       "      <td>Exports to US (% of GDP)</td>\n",
       "      <td>28.0</td>\n",
       "    </tr>\n",
       "    <tr>\n",
       "      <th>2</th>\n",
       "      <td>2</td>\n",
       "      <td>Malaysia</td>\n",
       "      <td>Exports to China (% of GDP)</td>\n",
       "      <td>21.0</td>\n",
       "    </tr>\n",
       "    <tr>\n",
       "      <th>3</th>\n",
       "      <td>3</td>\n",
       "      <td>Malaysia</td>\n",
       "      <td>Exports to US (% of GDP)</td>\n",
       "      <td>13.0</td>\n",
       "    </tr>\n",
       "    <tr>\n",
       "      <th>4</th>\n",
       "      <td>4</td>\n",
       "      <td>Singapore</td>\n",
       "      <td>Exports to China (% of GDP)</td>\n",
       "      <td>9.0</td>\n",
       "    </tr>\n",
       "  </tbody>\n",
       "</table>\n",
       "</div>"
      ],
      "text/plain": [
       "   index  Countries                  Export Type  Percent\n",
       "0      0    Vietnam  Exports to China (% of GDP)     27.0\n",
       "1      1    Vietnam     Exports to US (% of GDP)     28.0\n",
       "2      2   Malaysia  Exports to China (% of GDP)     21.0\n",
       "3      3   Malaysia     Exports to US (% of GDP)     13.0\n",
       "4      4  Singapore  Exports to China (% of GDP)      9.0"
      ]
     },
     "execution_count": 5,
     "metadata": {},
     "output_type": "execute_result"
    }
   ],
   "source": [
    "df.head().reset_index()"
   ]
  },
  {
   "cell_type": "code",
   "execution_count": 6,
   "metadata": {
    "scrolled": false
   },
   "outputs": [],
   "source": [
    "from matplotlib import pyplot as plt"
   ]
  },
  {
   "cell_type": "code",
   "execution_count": 7,
   "metadata": {},
   "outputs": [
    {
     "data": {
      "image/png": "[encoded data removed]",
      "text/plain": [
       "<Figure size 608x432 with 1 Axes>"
      ]
     },
     "metadata": {
      "needs_background": "light"
     },
     "output_type": "display_data"
    }
   ],
   "source": [
    "clrs = [\"#f4a46c\", \"#2f777f\"]\n",
    "g = sns.catplot(\n",
    "    data=df.reset_index(), kind=\"bar\",\n",
    "    x=\"Percent\", y=\"Countries\", hue=\"Export Type\",\n",
    "    ci=\"sd\", palette=clrs, alpha=1, height=6, \n",
    "    orient='h'\n",
    ")\n",
    "g.despine(left=True, bottom=True)\n",
    "g.set(xlabel='', ylabel='')\n",
    "plt.savefig('plot.png')"
   ]
  }
 ],
 "metadata": {
  "kernelspec": {
   "display_name": "Python 3 (ipykernel)",
   "language": "python",
   "name": "python3"
  },
  "language_info": {
   "codemirror_mode": {
    "name": "ipython",
    "version": 3
   },
   "file_extension": ".py",
   "mimetype": "text/x-python",
   "name": "python",
   "nbconvert_exporter": "python",
   "pygments_lexer": "ipython3",
   "version": "3.9.10"
  }
 },
 "nbformat": 4,
 "nbformat_minor": 2
}
